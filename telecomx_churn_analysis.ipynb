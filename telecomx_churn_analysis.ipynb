{
 "cells": [
  {
   "cell_type": "markdown",
   "id": "802288c0",
   "metadata": {},
   "source": [
    "## Extracción"
   ]
  },
  {
   "cell_type": "code",
   "execution_count": null,
   "id": "5ed90183",
   "metadata": {},
   "outputs": [],
   "source": [
    "\n",
    "import pandas as pd\n",
    "import json\n",
    "\n",
    "# Cargar datos desde el archivo JSON local\n",
    "with open(\"TelecomX_Data.json\", \"r\") as file:\n",
    "    data = json.load(file)\n",
    "\n",
    "# Convertir a DataFrame\n",
    "df = pd.json_normalize(data)\n",
    "\n",
    "# Vista inicial\n",
    "print(df.shape)\n",
    "df.head()\n"
   ]
  },
  {
   "cell_type": "markdown",
   "id": "9a309b81",
   "metadata": {},
   "source": [
    "## Transformación"
   ]
  },
  {
   "cell_type": "code",
   "execution_count": null,
   "id": "4f569346",
   "metadata": {},
   "outputs": [],
   "source": [
    "\n",
    "# Renombrar columnas para mayor claridad\n",
    "df.columns = df.columns.str.replace(\"customer.\", \"\")\n",
    "df.columns = df.columns.str.replace(\"phone.\", \"\")\n",
    "df.columns = df.columns.str.replace(\"internet.\", \"\")\n",
    "df.columns = df.columns.str.replace(\"account.\", \"\")\n",
    "df.columns = df.columns.str.replace(\"Charges.\", \"Charges_\")\n",
    "\n",
    "# Cambiar tipo de datos\n",
    "df[\"Charges_Total\"] = pd.to_numeric(df[\"Charges_Total\"], errors=\"coerce\")\n",
    "df[\"Charges_Monthly\"] = pd.to_numeric(df[\"Charges_Monthly\"], errors=\"coerce\")\n",
    "\n",
    "# Rellenar valores nulos en Churn\n",
    "df[\"Churn\"] = df[\"Churn\"].replace(\"\", \"No\")\n",
    "\n",
    "# Verificar nulls\n",
    "print(df.isnull().sum())\n"
   ]
  },
  {
   "cell_type": "markdown",
   "id": "d621fdbe",
   "metadata": {},
   "source": [
    "## Conoce el conjunto de datos"
   ]
  },
  {
   "cell_type": "code",
   "execution_count": null,
   "id": "7383c5ad",
   "metadata": {},
   "outputs": [],
   "source": [
    "\n",
    "# Resumen general\n",
    "df.info()\n",
    "\n",
    "# Tipos de datos\n",
    "print(df.dtypes)\n",
    "\n",
    "# Estadísticas de variables numéricas\n",
    "print(df.describe())\n",
    "\n",
    "# Distribución de algunas variables categóricas\n",
    "for col in [\"gender\", \"Churn\", \"Contract\", \"PaymentMethod\"]:\n",
    "    print(f\"\\nColumna: {col}\")\n",
    "    print(df[col].value_counts())\n"
   ]
  },
  {
   "cell_type": "markdown",
   "id": "bccba12f",
   "metadata": {},
   "source": [
    "## Comprobación de incoherencias"
   ]
  },
  {
   "cell_type": "code",
   "execution_count": null,
   "id": "c4b7ddee",
   "metadata": {},
   "outputs": [],
   "source": [
    "\n",
    "# Valores nulos\n",
    "print(\"Valores nulos por columna:\\n\", df.isnull().sum())\n",
    "\n",
    "# Valores únicos en categóricas\n",
    "for col in df.select_dtypes(include=\"object\").columns:\n",
    "    print(f\"\\nColumna: {col}\")\n",
    "    print(df[col].unique())\n",
    "\n",
    "# Duplicados\n",
    "duplicados = df.duplicated(subset=\"customerID\").sum()\n",
    "print(f\"\\nNúmero de registros duplicados: {duplicados}\")\n",
    "\n",
    "# Valores en Churn\n",
    "print(\"\\nValores en Churn:\", df[\"Churn\"].unique())\n",
    "\n",
    "# Coherencia numérica\n",
    "print(\"\\nDescripción de variables numéricas:\")\n",
    "print(df[[\"tenure\", \"Charges_Monthly\", \"Charges_Total\"]].describe())\n",
    "\n",
    "# Inconsistencias Charges_Total < Charges_Monthly\n",
    "inconsistencias = df[df[\"Charges_Total\"] < df[\"Charges_Monthly\"]]\n",
    "print(f\"\\nRegistros con inconsistencia en Charges_Total vs Monthly: {len(inconsistencias)}\")\n"
   ]
  },
  {
   "cell_type": "markdown",
   "id": "ed88c49a",
   "metadata": {},
   "source": [
    "## Carga y análisis (EDA)"
   ]
  },
  {
   "cell_type": "code",
   "execution_count": null,
   "id": "55241295",
   "metadata": {},
   "outputs": [],
   "source": [
    "\n",
    "import matplotlib.pyplot as plt\n",
    "import seaborn as sns\n",
    "\n",
    "# Distribución de Churn\n",
    "sns.countplot(data=df, x=\"Churn\")\n",
    "plt.title(\"Clientes que abandonaron vs. se quedaron\")\n",
    "plt.show()\n",
    "\n",
    "# Contrato vs Churn\n",
    "sns.countplot(data=df, x=\"Contract\", hue=\"Churn\")\n",
    "plt.title(\"Churn por tipo de contrato\")\n",
    "plt.show()\n",
    "\n",
    "# Método de pago vs Churn\n",
    "sns.countplot(data=df, x=\"PaymentMethod\", hue=\"Churn\")\n",
    "plt.xticks(rotation=45)\n",
    "plt.title(\"Churn por método de pago\")\n",
    "plt.show()\n",
    "\n",
    "# Heatmap de correlación\n",
    "sns.heatmap(df[[\"SeniorCitizen\", \"tenure\", \"Charges_Monthly\", \"Charges_Total\"]].corr(), annot=True, cmap=\"coolwarm\")\n",
    "plt.title(\"Correlación de variables numéricas\")\n",
    "plt.show()\n"
   ]
  },
  {
   "cell_type": "markdown",
   "id": "b9ebfd68",
   "metadata": {},
   "source": [
    "## Informe final"
   ]
  },
  {
   "cell_type": "markdown",
   "id": "50eb365e",
   "metadata": {},
   "source": [
    "\n",
    "### Hallazgos principales\n",
    "- Los clientes con contratos mensuales muestran una tasa de churn más alta.\n",
    "- El churn es mayor en clientes que pagan con Electronic check.\n",
    "- Clientes con menor tenure tienden a irse más rápido.\n",
    "- Los cargos mensuales altos, especialmente en fibra óptica, parecen estar asociados a mayor evasión.\n",
    "\n",
    "### Recomendaciones\n",
    "- Incentivar contratos de largo plazo con descuentos.\n",
    "- Ofrecer planes más económicos para clientes nuevos.\n",
    "- Revisar políticas de facturación en pagos electrónicos.\n"
   ]
  }
 ],
 "metadata": {},
 "nbformat": 4,
 "nbformat_minor": 5
}
